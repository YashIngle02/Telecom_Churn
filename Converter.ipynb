{
 "cells": [
  {
   "cell_type": "code",
   "execution_count": 2,
   "id": "1ae44018-33e9-4a35-936c-7330450290b3",
   "metadata": {},
   "outputs": [],
   "source": [
    "# ipynb to py \n",
    "\n",
    "from nbconvert import PythonExporter\n",
    "import nbformat\n",
    "\n",
    "\n",
    "with open(\"app.ipynb\",'r') as f:\n",
    "    N=nbformat.read(f,as_version=4) \n",
    "    \n",
    "    \n",
    "    \n",
    "(script,_) =   PythonExporter().from_notebook_node(N)\n",
    "\n",
    "with open(\"app.py\",'w') as script_file:\n",
    "    script_file.write(script)"
   ]
  },
  {
   "cell_type": "code",
   "execution_count": null,
   "id": "fe38f35f-c96a-4d04-8ac0-de27ec9026dd",
   "metadata": {},
   "outputs": [],
   "source": []
  }
 ],
 "metadata": {
  "kernelspec": {
   "display_name": "Python 3 (ipykernel)",
   "language": "python",
   "name": "python3"
  },
  "language_info": {
   "codemirror_mode": {
    "name": "ipython",
    "version": 3
   },
   "file_extension": ".py",
   "mimetype": "text/x-python",
   "name": "python",
   "nbconvert_exporter": "python",
   "pygments_lexer": "ipython3",
   "version": "3.12.2"
  },
  "widgets": {
   "application/vnd.jupyter.widget-state+json": {
    "state": {},
    "version_major": 2,
    "version_minor": 0
   }
  }
 },
 "nbformat": 4,
 "nbformat_minor": 5
}
