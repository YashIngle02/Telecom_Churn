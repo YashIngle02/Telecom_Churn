{
 "cells": [
  {
   "cell_type": "code",
   "execution_count": 2,
   "id": "f72d1c68-172a-4c06-a0c4-67524d253308",
   "metadata": {},
   "outputs": [
    {
     "name": "stdout",
     "output_type": "stream",
     "text": [
      " * Serving Flask app '__main__'\n",
      " * Debug mode: on\n"
     ]
    },
    {
     "name": "stderr",
     "output_type": "stream",
     "text": [
      "WARNING: This is a development server. Do not use it in a production deployment. Use a production WSGI server instead.\n",
      " * Running on http://127.0.0.1:5000\n",
      "Press CTRL+C to quit\n",
      " * Restarting with stat\n"
     ]
    },
    {
     "ename": "SystemExit",
     "evalue": "1",
     "output_type": "error",
     "traceback": [
      "An exception has occurred, use %tb to see the full traceback.\n",
      "\u001b[1;31mSystemExit\u001b[0m\u001b[1;31m:\u001b[0m 1\n"
     ]
    }
   ],
   "source": [
    "import numpy as np\n",
    "import pandas as pd\n",
    "from flask import Flask, request, jsonify, render_template\n",
    "import pickle\n",
    "\n",
    "# Initialize the app\n",
    "app = Flask(__name__)\n",
    "\n",
    "# Load the trained model\n",
    "model = pickle.load(open('model.pkl', 'rb'))\n",
    "\n",
    "# Define routes\n",
    "@app.route('/')\n",
    "def home():\n",
    "    return render_template('index.html')\n",
    "\n",
    "@app.route('/predict', methods=['POST'])\n",
    "def predict():\n",
    "    # Retrieve form data\n",
    "    form_data = request.form\n",
    "    \n",
    "    # Extract input values from the form\n",
    "    \n",
    "    senior_citizen = int(form_data['SeniorCitizen'])\n",
    "    partner = 1 if form_data['Partner'] == 'Yes' else 0\n",
    "    dependents = 1 if form_data['Dependents'] == 'Yes' else 0\n",
    "    tenure = float(form_data['tenure'])\n",
    "    \n",
    "    multiple_lines = 1 if form_data['MultipleLines'] == 'Yes' else 0\n",
    "    internet_service = int(form_data['InternetService'])\n",
    "    online_security = 1 if form_data['OnlineSecurity'] == 'Yes' else 0\n",
    "    online_backup = 1 if form_data['OnlineBackup'] == 'Yes' else 0\n",
    "    device_protection = 1 if form_data['DeviceProtection'] == 'Yes' else 0\n",
    "    tech_support = 1 if form_data['TechSupport'] == 'Yes' else 0\n",
    "    streaming_tv = 1 if form_data['StreamingTV'] == 'Yes' else 0\n",
    "    streaming_movies = 1 if form_data['StreamingMovies'] == 'Yes' else 0\n",
    "    contract = int(form_data['Contract'])\n",
    "    paperless_billing = 1 if form_data['PaperlessBilling'] == 'Yes' else 0\n",
    "    payment_method = int(form_data['PaymentMethod'])\n",
    "    monthly_charges = float(form_data['MonthlyCharges'])\n",
    "    total_charges = float(form_data['TotalCharges'])\n",
    "    Avg_monthly_Charges = float(form_data['Avg_monthly_Charges'])\n",
    "\n",
    "    # Create a feature vector for prediction\n",
    "    features = np.array([[\n",
    "        senior_citizen, partner, dependents, tenure,\n",
    "        multiple_lines, internet_service, online_security, online_backup,\n",
    "        device_protection, tech_support, streaming_tv, streaming_movies,\n",
    "        contract, paperless_billing, payment_method, monthly_charges, total_charges,Avg_monthly_Charges\n",
    "    ]])\n",
    "    \n",
    "    # Make prediction\n",
    "    prediction = model.predict(features)\n",
    "    output = \"Yes\" if prediction[0] == 1 else \"No\"\n",
    "\n",
    "    return render_template('index.html', prediction_text=f'Churn Prediction: {output}')\n",
    "\n",
    "if __name__ == \"__main__\":\n",
    "    app.run(debug=True)\n"
   ]
  },
  {
   "cell_type": "code",
   "execution_count": null,
   "id": "b302e535-da1e-4911-9fa6-6c55c267cd86",
   "metadata": {},
   "outputs": [],
   "source": []
  }
 ],
 "metadata": {
  "kernelspec": {
   "display_name": "Python 3 (ipykernel)",
   "language": "python",
   "name": "python3"
  },
  "language_info": {
   "codemirror_mode": {
    "name": "ipython",
    "version": 3
   },
   "file_extension": ".py",
   "mimetype": "text/x-python",
   "name": "python",
   "nbconvert_exporter": "python",
   "pygments_lexer": "ipython3",
   "version": "3.12.2"
  },
  "widgets": {
   "application/vnd.jupyter.widget-state+json": {
    "state": {},
    "version_major": 2,
    "version_minor": 0
   }
  }
 },
 "nbformat": 4,
 "nbformat_minor": 5
}
